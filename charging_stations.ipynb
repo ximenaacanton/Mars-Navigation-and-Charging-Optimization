{
 "cells": [
  {
   "cell_type": "code",
   "execution_count": 2,
   "metadata": {},
   "outputs": [],
   "source": [
    "import cv2\n",
    "import numpy as np\n",
    "import matplotlib.pyplot as plt\n",
    "from simpleai.search import CspProblem, backtrack\n",
    "from itertools import combinations"
   ]
  },
  {
   "cell_type": "code",
   "execution_count": null,
   "metadata": {},
   "outputs": [
    {
     "name": "stdout",
     "output_type": "stream",
     "text": [
      "Selecciona los puntos candidatos con el cursor (cierra la ventana para continuar).\n"
     ]
    },
    {
     "name": "stderr",
     "output_type": "stream",
     "text": [
      "2025-03-12 21:38:23.466 Python[63006:12621186] +[IMKClient subclass]: chose IMKClient_Modern\n",
      "2025-03-12 21:38:23.468 Python[63006:12621186] +[IMKInputSession subclass]: chose IMKInputSession_Modern\n"
     ]
    },
    {
     "name": "stdout",
     "output_type": "stream",
     "text": [
      "Zonas candidatas seleccionadas: [(1198, 2500), (1537, 3945), (2411, 1833), (1189, 6407)]\n"
     ]
    },
    {
     "ename": "ValueError",
     "evalue": "too many values to unpack (expected 2)",
     "output_type": "error",
     "traceback": [
      "\u001b[31m---------------------------------------------------------------------------\u001b[39m",
      "\u001b[31mValueError\u001b[39m                                Traceback (most recent call last)",
      "\u001b[36mCell\u001b[39m\u001b[36m \u001b[39m\u001b[32mIn[3]\u001b[39m\u001b[32m, line 49\u001b[39m\n\u001b[32m     47\u001b[39m \u001b[38;5;66;03m# Resolver CSP\u001b[39;00m\n\u001b[32m     48\u001b[39m problem = CspProblem(variables, domains, constraints)\n\u001b[32m---> \u001b[39m\u001b[32m49\u001b[39m solution = \u001b[43mbacktrack\u001b[49m\u001b[43m(\u001b[49m\u001b[43mproblem\u001b[49m\u001b[43m)\u001b[49m\n\u001b[32m     51\u001b[39m \u001b[38;5;66;03m# --- PARTE 4: Visualizar resultado ---\u001b[39;00m\n\u001b[32m     52\u001b[39m \u001b[38;5;66;03m# Dibujar la solución en la imagen\u001b[39;00m\n\u001b[32m     53\u001b[39m \u001b[38;5;28;01mfor\u001b[39;00m station, location \u001b[38;5;129;01min\u001b[39;00m solution.items():\n",
      "\u001b[36mFile \u001b[39m\u001b[32m/Library/Frameworks/Python.framework/Versions/3.12/lib/python3.12/site-packages/simpleai/search/csp.py:36\u001b[39m, in \u001b[36mbacktrack\u001b[39m\u001b[34m(problem, variable_heuristic, value_heuristic, inference)\u001b[39m\n\u001b[32m     34\u001b[39m \u001b[38;5;28;01melse\u001b[39;00m:\n\u001b[32m     35\u001b[39m     values_sorter = _basic_values_sorter\n\u001b[32m---> \u001b[39m\u001b[32m36\u001b[39m \u001b[38;5;28;01mreturn\u001b[39;00m \u001b[43m_backtracking\u001b[49m\u001b[43m(\u001b[49m\u001b[43mproblem\u001b[49m\u001b[43m,\u001b[49m\n\u001b[32m     37\u001b[39m \u001b[43m                     \u001b[49m\u001b[43massignment\u001b[49m\u001b[43m,\u001b[49m\n\u001b[32m     38\u001b[39m \u001b[43m                     \u001b[49m\u001b[43mdomains\u001b[49m\u001b[43m,\u001b[49m\n\u001b[32m     39\u001b[39m \u001b[43m                     \u001b[49m\u001b[43mvariable_chooser\u001b[49m\u001b[43m,\u001b[49m\n\u001b[32m     40\u001b[39m \u001b[43m                     \u001b[49m\u001b[43mvalues_sorter\u001b[49m\u001b[43m,\u001b[49m\n\u001b[32m     41\u001b[39m \u001b[43m                     \u001b[49m\u001b[43minference\u001b[49m\u001b[43m=\u001b[49m\u001b[43minference\u001b[49m\u001b[43m)\u001b[49m\n",
      "\u001b[36mFile \u001b[39m\u001b[32m/Library/Frameworks/Python.framework/Versions/3.12/lib/python3.12/site-packages/simpleai/search/csp.py:141\u001b[39m, in \u001b[36m_backtracking\u001b[39m\u001b[34m(problem, assignment, domains, variable_chooser, values_sorter, inference)\u001b[39m\n\u001b[32m    138\u001b[39m new_assignment = deepcopy(assignment)\n\u001b[32m    139\u001b[39m new_assignment[variable] = value\n\u001b[32m--> \u001b[39m\u001b[32m141\u001b[39m \u001b[38;5;28;01mif\u001b[39;00m \u001b[38;5;129;01mnot\u001b[39;00m \u001b[43m_count_conflicts\u001b[49m\u001b[43m(\u001b[49m\u001b[43mproblem\u001b[49m\u001b[43m,\u001b[49m\u001b[43m \u001b[49m\u001b[43mnew_assignment\u001b[49m\u001b[43m)\u001b[49m:  \u001b[38;5;66;03m# TODO on aima also checks if using fc\u001b[39;00m\n\u001b[32m    142\u001b[39m     new_domains = deepcopy(domains)\n\u001b[32m    143\u001b[39m     new_domains[variable] = [value]\n",
      "\u001b[36mFile \u001b[39m\u001b[32m/Library/Frameworks/Python.framework/Versions/3.12/lib/python3.12/site-packages/simpleai/search/csp.py:71\u001b[39m, in \u001b[36m_count_conflicts\u001b[39m\u001b[34m(problem, assignment, variable, value)\u001b[39m\n\u001b[32m     67\u001b[39m \u001b[38;5;28;01mdef\u001b[39;00m\u001b[38;5;250m \u001b[39m\u001b[34m_count_conflicts\u001b[39m(problem, assignment, variable=\u001b[38;5;28;01mNone\u001b[39;00m, value=\u001b[38;5;28;01mNone\u001b[39;00m):\n\u001b[32m     68\u001b[39m \u001b[38;5;250m    \u001b[39m\u001b[33;03m'''\u001b[39;00m\n\u001b[32m     69\u001b[39m \u001b[33;03m    Count the number of violated constraints on a given assignment.\u001b[39;00m\n\u001b[32m     70\u001b[39m \u001b[33;03m    '''\u001b[39;00m\n\u001b[32m---> \u001b[39m\u001b[32m71\u001b[39m     \u001b[38;5;28;01mreturn\u001b[39;00m \u001b[38;5;28mlen\u001b[39m(\u001b[43m_find_conflicts\u001b[49m\u001b[43m(\u001b[49m\u001b[43mproblem\u001b[49m\u001b[43m,\u001b[49m\u001b[43m \u001b[49m\u001b[43massignment\u001b[49m\u001b[43m,\u001b[49m\u001b[43m \u001b[49m\u001b[43mvariable\u001b[49m\u001b[43m,\u001b[49m\u001b[43m \u001b[49m\u001b[43mvalue\u001b[49m\u001b[43m)\u001b[49m)\n",
      "\u001b[36mFile \u001b[39m\u001b[32m/Library/Frameworks/Python.framework/Versions/3.12/lib/python3.12/site-packages/simpleai/search/csp.py:91\u001b[39m, in \u001b[36m_find_conflicts\u001b[39m\u001b[34m(problem, assignment, variable, value)\u001b[39m\n\u001b[32m     88\u001b[39m     assignment[variable] = value\n\u001b[32m     90\u001b[39m conflicts = []\n\u001b[32m---> \u001b[39m\u001b[32m91\u001b[39m \u001b[38;5;28;01mfor\u001b[39;00m neighbors, constraint \u001b[38;5;129;01min\u001b[39;00m problem.constraints:\n\u001b[32m     92\u001b[39m     \u001b[38;5;66;03m# if all the neighbors on the constraint have values, check if conflict\u001b[39;00m\n\u001b[32m     93\u001b[39m     \u001b[38;5;28;01mif\u001b[39;00m \u001b[38;5;28mall\u001b[39m(n \u001b[38;5;129;01min\u001b[39;00m assignment \u001b[38;5;28;01mfor\u001b[39;00m n \u001b[38;5;129;01min\u001b[39;00m neighbors):\n\u001b[32m     94\u001b[39m         \u001b[38;5;28;01mif\u001b[39;00m \u001b[38;5;129;01mnot\u001b[39;00m _call_constraint(assignment, neighbors, constraint):\n",
      "\u001b[31mValueError\u001b[39m: too many values to unpack (expected 2)"
     ]
    },
    {
     "ename": "",
     "evalue": "",
     "output_type": "error",
     "traceback": [
      "\u001b[1;31mThe Kernel crashed while executing code in the current cell or a previous cell. \n",
      "\u001b[1;31mPlease review the code in the cell(s) to identify a possible cause of the failure. \n",
      "\u001b[1;31mClick <a href='https://aka.ms/vscodeJupyterKernelCrash'>here</a> for more info. \n",
      "\u001b[1;31mView Jupyter <a href='command:jupyter.viewOutput'>log</a> for further details."
     ]
    }
   ],
   "source": [
    "\n",
    "# --- PARTE 1: Cargar la imagen ---\n",
    "image_path = \"/Users/ximenacanton/Documents/TEC/4 SEM/DAI/mars/mars2.png\"  \n",
    "image = cv2.imread(image_path)\n",
    "image = cv2.cvtColor(image, cv2.COLOR_BGR2RGB)  # Convertir a RGB para matplotlib\n",
    "\n",
    "# --- PARTE 2: Selección de zonas candidatas manualmente ---\n",
    "print(\"Selecciona los puntos candidatos con el cursor (cierra la ventana para continuar).\")\n",
    "candidate_zones = []\n",
    "\n",
    "def select_points(event, x, y, flags, param):\n",
    "    \"\"\" Función de clic para guardar puntos de interés. \"\"\"\n",
    "    if event == cv2.EVENT_LBUTTONDOWN:\n",
    "        candidate_zones.append((x, y))\n",
    "        cv2.circle(image, (x, y), 5, (255, 0, 0), -1)\n",
    "        cv2.imshow(\"Selecciona zonas\", image)\n",
    "\n",
    "# Mostrar imagen y seleccionar puntos\n",
    "cv2.imshow(\"Selecciona zonas\", image)\n",
    "cv2.setMouseCallback(\"Selecciona zonas\", select_points)\n",
    "cv2.waitKey(0)\n",
    "cv2.destroyAllWindows()\n",
    "\n",
    "print(f\"Zonas candidatas seleccionadas: {candidate_zones}\")\n",
    "\n",
    "# --- PARTE 3: Definir CSP ---\n",
    "PIXEL_SIZE = 252  # Tamaño de píxel en metros\n",
    "MIN_DIST = 1000 // PIXEL_SIZE  # ~4 píxeles\n",
    "MAX_DIST = 3000 // PIXEL_SIZE  # ~12 píxeles\n",
    "\n",
    "# Variables: 8 estaciones a ubicar\n",
    "variables = [f\"S{i}\" for i in range(8)]\n",
    "\n",
    "# Dominio: Cada estación puede estar en cualquier zona candidata\n",
    "domains = {var: candidate_zones[:] for var in variables}\n",
    "\n",
    "# Restricción de distancia\n",
    "def distance_constraint(var1, value1, var2, value2):\n",
    "    \"\"\" Verifica que dos estaciones cumplan con la distancia mínima y máxima. \"\"\"\n",
    "    x1, y1 = value1\n",
    "    x2, y2 = value2\n",
    "    dist = ((x1 - x2) ** 2 + (y1 - y2) ** 2) ** 0.5\n",
    "    return MIN_DIST <= dist <= MAX_DIST\n",
    "\n",
    "# Aplicar restricciones entre pares de estaciones\n",
    "constraints = [(var1, var2, distance_constraint) for var1, var2 in combinations(variables, 2)]\n",
    "\n",
    "# Resolver CSP\n",
    "problem = CspProblem(variables, domains, constraints)\n",
    "solution = backtrack(problem)\n",
    "\n",
    "# --- PARTE 4: Visualizar resultado ---\n",
    "# Dibujar la solución en la imagen\n",
    "for station, location in solution.items():\n",
    "    cv2.circle(image, location, 8, (0, 255, 0), -1)  # Puntos verdes para las estaciones\n",
    "    cv2.putText(image, station, (location[0] + 10, location[1] - 10), cv2.FONT_HERSHEY_SIMPLEX, \n",
    "                0.5, (0, 255, 0), 2)\n",
    "\n",
    "# Mostrar imagen con estaciones seleccionadas\n",
    "plt.figure(figsize=(10, 10))\n",
    "plt.imshow(image)\n",
    "plt.title(\"Estaciones de carga seleccionadas\")\n",
    "plt.axis(\"off\")\n",
    "plt.show()\n",
    "\n",
    "# Imprimir resultados\n",
    "print(\"Ubicaciones de las estaciones seleccionadas:\")\n",
    "for station, location in solution.items():\n",
    "    print(f\"{station}: {location}\")"
   ]
  },
  {
   "cell_type": "code",
   "execution_count": 2,
   "metadata": {},
   "outputs": [
    {
     "name": "stdout",
     "output_type": "stream",
     "text": [
      "✅ Imagen convertida y guardada en: mars2.png\n"
     ]
    },
    {
     "name": "stderr",
     "output_type": "stream",
     "text": [
      "[ WARN:0@4.521] global loadsave.cpp:848 imwrite_ Unsupported depth image for selected encoder is fallbacked to CV_8U.\n"
     ]
    }
   ],
   "source": [
    "from planetaryimage import PDS3Image\n",
    "import cv2\n",
    "\n",
    "image_path = \"/Users/ximenacanton/Documents/TEC/4 SEM/DAI/mars/mars2.IMG\"\n",
    "output_path = \"mars2.png\"\n",
    "\n",
    "# Cargar imagen PDS\n",
    "pds_image = PDS3Image.open(image_path)\n",
    "\n",
    "# Guardar la imagen en PNG\n",
    "cv2.imwrite(output_path, pds_image.image)\n",
    "print(f\"✅ Imagen convertida y guardada en: {output_path}\")"
   ]
  }
 ],
 "metadata": {
  "kernelspec": {
   "display_name": "Python 3",
   "language": "python",
   "name": "python3"
  },
  "language_info": {
   "codemirror_mode": {
    "name": "ipython",
    "version": 3
   },
   "file_extension": ".py",
   "mimetype": "text/x-python",
   "name": "python",
   "nbconvert_exporter": "python",
   "pygments_lexer": "ipython3",
   "version": "3.12.0"
  }
 },
 "nbformat": 4,
 "nbformat_minor": 2
}
